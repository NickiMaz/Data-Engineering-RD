{
 "cells": [
  {
   "cell_type": "code",
   "execution_count": 1,
   "metadata": {
    "collapsed": true
   },
   "outputs": [],
   "source": [
    "from pyspark.sql import SparkSession, functions as F, types as T"
   ]
  },
  {
   "cell_type": "code",
   "execution_count": 2,
   "metadata": {
    "collapsed": false,
    "pycharm": {
     "is_executing": true
    }
   },
   "outputs": [],
   "source": [
    "spark = SparkSession.builder.master('local[*]').getOrCreate()"
   ]
  },
  {
   "cell_type": "code",
   "execution_count": 3,
   "metadata": {
    "collapsed": false
   },
   "outputs": [
    {
     "name": "stdout",
     "output_type": "stream",
     "text": [
      "3.4.1\n"
     ]
    }
   ],
   "source": [
    "print(spark.version)"
   ]
  },
  {
   "cell_type": "code",
   "execution_count": 4,
   "metadata": {
    "collapsed": false
   },
   "outputs": [],
   "source": [
    "actor_df = spark.read.csv('./data/actor.csv', header=True, inferSchema=True)\n",
    "address_df = spark.read.csv('./data/address.csv', header=True, inferSchema=True)\n",
    "category_df = spark.read.csv('./data/category.csv', header=True, inferSchema=True)\n",
    "city_df = spark.read.csv('./data/city.csv', header=True, inferSchema=True)\n",
    "country_df = spark.read.csv('./data/country.csv', header=True, inferSchema=True)\n",
    "customer_df = spark.read.csv('./data/customer.csv', header=True, inferSchema=True)\n",
    "film_df = spark.read.csv('./data/film.csv', header=True, inferSchema=True)\n",
    "film_actor_df = spark.read.csv('./data/film_actor.csv', header=True, inferSchema=True)\n",
    "film_category_df = spark.read.csv('./data/film_category.csv', header=True, inferSchema=True)\n",
    "inventory_df = spark.read.csv('./data/inventory.csv', header=True, inferSchema=True)\n",
    "language_df = spark.read.csv('./data/language.csv', header=True, inferSchema=True)\n",
    "payment_df = spark.read.csv('./data/payment.csv', header=True, inferSchema=True)\n",
    "rental_df = spark.read.csv('./data/rental.csv', header=True, inferSchema=True)\n",
    "staff_df = spark.read.csv('./data/staff.csv', header=True, inferSchema=True)\n",
    "store_df = spark.read.csv('./data/store.csv', header=True, inferSchema=True)"
   ]
  },
  {
   "cell_type": "markdown",
   "metadata": {
    "collapsed": false
   },
   "source": [
    "# Домашнє завдання на тему Spark SQL\n",
    "\n",
    "Задачі з домашнього завдання на SQL потрібно розвʼязати за допомогою Spark SQL DataFrame API.\n",
    "\n",
    "- Дампи таблиць знаходяться в папці `data`. Датафрейми таблиць вже створені в клітинці вище.\n",
    "- Можете створювати стільки нових клітинок, скільки вам необхідно.\n",
    "- Розвʼязок кожної задачі має бути відображений в самому файлі (використати метод `.show()`)\n",
    "- код має бути оформлений у відповідності із одним із стилем, показаним лектором на занятті 13.\n",
    "\n",
    "**Увага!**\n",
    "Використовувати мову запитів SQL безпосередньо забороняється, потрібно використовувати виключно DataFrame API!\n"
   ]
  },
  {
   "cell_type": "markdown",
   "metadata": {
    "collapsed": false
   },
   "source": [
    "1.\n",
    "Вивести кількість фільмів в кожній категорії.\n",
    "Результат відсортувати за спаданням."
   ]
  },
  {
   "cell_type": "code",
   "execution_count": 14,
   "metadata": {
    "collapsed": false
   },
   "outputs": [
    {
     "name": "stdout",
     "output_type": "stream",
     "text": [
      "+-----------+-----+\n",
      "|       name|count|\n",
      "+-----------+-----+\n",
      "|     Sports|   74|\n",
      "|    Foreign|   73|\n",
      "|     Family|   69|\n",
      "|Documentary|   68|\n",
      "|  Animation|   66|\n",
      "|     Action|   64|\n",
      "|        New|   63|\n",
      "|      Drama|   62|\n",
      "|      Games|   61|\n",
      "|     Sci-Fi|   61|\n",
      "|   Children|   60|\n",
      "|     Comedy|   58|\n",
      "|     Travel|   57|\n",
      "|   Classics|   57|\n",
      "|     Horror|   56|\n",
      "|      Music|   51|\n",
      "+-----------+-----+\n",
      "\n"
     ]
    }
   ],
   "source": [
    "film_category_df.groupBy('category_id').count()\\\n",
    "    .join(category_df, how='left', on='category_id')\\\n",
    "        .select('name', 'count').sort('count', ascending=False).show()"
   ]
  },
  {
   "cell_type": "markdown",
   "metadata": {
    "collapsed": false
   },
   "source": [
    "2.\n",
    "Вивести 10 акторів, чиї фільми брали на прокат найбільше.\n",
    "Результат відсортувати за спаданням."
   ]
  },
  {
   "cell_type": "code",
   "execution_count": 48,
   "metadata": {
    "collapsed": false
   },
   "outputs": [
    {
     "name": "stdout",
     "output_type": "stream",
     "text": [
      "+----------+-----------+-----+\n",
      "|first_name|  last_name|count|\n",
      "+----------+-----------+-----+\n",
      "|      GINA|  DEGENERES|  753|\n",
      "|   MATTHEW|     CARREY|  678|\n",
      "|      MARY|     KEITEL|  674|\n",
      "|    ANGELA|WITHERSPOON|  654|\n",
      "|    WALTER|       TORN|  640|\n",
      "|     HENRY|      BERRY|  612|\n",
      "|     JAYNE|      NOLTE|  611|\n",
      "|       VAL|     BOLGER|  605|\n",
      "|    SANDRA|     KILMER|  604|\n",
      "|      SEAN|    GUINESS|  599|\n",
      "+----------+-----------+-----+\n",
      "\n"
     ]
    }
   ],
   "source": [
    "## Count number of rental for each film_id which was in inventory\n",
    "rental_count_df = rental_df.join(inventory_df, how='left', on='inventory_id')\\\n",
    "                           .select('film_id').groupBy('film_id').count()\n",
    "\n",
    "actor_df.join(film_actor_df, how='left', on='actor_id')\\\n",
    "    .join(rental_count_df, how='left', on='film_id')\\\n",
    "    .groupBy('actor_id').agg({'count': 'sum',\n",
    "                              'first_name': 'max',\n",
    "                              'last_name': 'max',})\\\n",
    "    .select(F.col('max(first_name)').alias('first_name'),\n",
    "            F.col('max(last_name)').alias('last_name'),\n",
    "            F.col('sum(count)').alias('count'))\\\n",
    "    .sort('sum(count)', ascending=False).limit(10).show()"
   ]
  },
  {
   "cell_type": "markdown",
   "metadata": {
    "collapsed": false
   },
   "source": [
    "3.\n",
    "Вивести категорія фільмів, на яку було витрачено найбільше грошей\n",
    "в прокаті"
   ]
  },
  {
   "cell_type": "code",
   "execution_count": 61,
   "metadata": {},
   "outputs": [
    {
     "name": "stdout",
     "output_type": "stream",
     "text": [
      "+-----------+-----------------------+\n",
      "|       name|category_rental_revenue|\n",
      "+-----------+-----------------------+\n",
      "|     Sports|                5314.21|\n",
      "|     Sci-Fi|                4756.98|\n",
      "|  Animation|      4656.299999999999|\n",
      "|      Drama|      4587.390000000001|\n",
      "|     Comedy|      4383.580000000001|\n",
      "|     Action|      4375.849999999999|\n",
      "|        New|     4361.5700000000015|\n",
      "|      Games|      4281.329999999998|\n",
      "|    Foreign|                4270.67|\n",
      "|     Family|      4226.070000000001|\n",
      "|Documentary|     4217.5199999999995|\n",
      "|     Horror|     3722.5399999999995|\n",
      "|   Children|     3655.5499999999997|\n",
      "|   Classics|      3639.589999999999|\n",
      "|     Travel|     3549.6400000000003|\n",
      "|      Music|     3417.7200000000003|\n",
      "+-----------+-----------------------+\n",
      "\n"
     ]
    }
   ],
   "source": [
    "film_rental_revenue_df = payment_df.join(rental_df, on='rental_id')\\\n",
    "                                .join(inventory_df, on='inventory_id')\\\n",
    "                                .groupBy('film_id').agg(F.sum('amount').alias('rental_revenue'))\n",
    "\n",
    "film_rental_revenue_df.join(film_category_df, on='film_id')\\\n",
    "                        .join(category_df, on='category_id')\\\n",
    "                        .groupBy('category_id')\\\n",
    "                        .agg(F.sum('rental_revenue').alias('category_rental_revenue'), \n",
    "                             F.max('name').alias('name'))\\\n",
    "                        .select('name', 'category_rental_revenue')\\\n",
    "                        .sort('category_rental_revenue', ascending=False).show()\n"
   ]
  },
  {
   "cell_type": "markdown",
   "metadata": {
    "collapsed": false
   },
   "source": [
    "4.\n",
    "Вивести назви фільмів, яких не має в inventory."
   ]
  },
  {
   "cell_type": "code",
   "execution_count": 70,
   "metadata": {
    "collapsed": false
   },
   "outputs": [
    {
     "name": "stdout",
     "output_type": "stream",
     "text": [
      "+--------------------+\n",
      "|               title|\n",
      "+--------------------+\n",
      "|       RAINBOW SHOCK|\n",
      "|           GUMP DATE|\n",
      "|         HOCUS FRIDA|\n",
      "|    TREASURE COMMAND|\n",
      "| CHINATOWN GLADIATOR|\n",
      "|        WALLS ARTIST|\n",
      "|      ARGONAUTS TOWN|\n",
      "|       PSYCHO SHRUNK|\n",
      "|   FIREHOUSE VIETNAM|\n",
      "|DELIVERANCE MULHO...|\n",
      "|       ROOF CHAMPION|\n",
      "|        TADPOLE PARK|\n",
      "|         APOLLO TEEN|\n",
      "|       HATE HANDICAP|\n",
      "|       PEARL DESTINY|\n",
      "|COMMANDMENTS EXPRESS|\n",
      "|        VOLUME HOUSE|\n",
      "|     CROWDS TELEMARK|\n",
      "|   RAIDERS ANTITRUST|\n",
      "|    KILL BROTHERHOOD|\n",
      "+--------------------+\n",
      "only showing top 20 rows\n",
      "\n"
     ]
    }
   ],
   "source": [
    "film_df.select('title').distinct()\\\n",
    "    .exceptAll(film_df.join(inventory_df, on='film_id')\n",
    "                      .select('title').distinct()\n",
    ").show()"
   ]
  },
  {
   "cell_type": "markdown",
   "metadata": {
    "collapsed": false
   },
   "source": [
    "5.\n",
    "Вивести топ 3 актори, які найбільше зʼявлялись в категорії фільмів “Children”"
   ]
  },
  {
   "cell_type": "code",
   "execution_count": 87,
   "metadata": {
    "collapsed": false,
    "pycharm": {
     "is_executing": true
    }
   },
   "outputs": [
    {
     "name": "stdout",
     "output_type": "stream",
     "text": [
      "+----------+---------+-----+\n",
      "|first_name|last_name|count|\n",
      "+----------+---------+-----+\n",
      "|      GINA|DEGENERES|   42|\n",
      "|    WALTER|     TORN|   41|\n",
      "|      MARY|   KEITEL|   40|\n",
      "+----------+---------+-----+\n",
      "\n"
     ]
    }
   ],
   "source": [
    "children_films = category_df.filter(F.col('name') == 'Children')\\\n",
    "                        .join(film_category_df, on='category_id')\n",
    "\n",
    "actor_df.join(film_actor_df, how='left', on='actor_id')\\\n",
    "        .join(children_films, how='left', on='film_id')\\\n",
    "        .groupBy('actor_id').agg({'film_id': 'count',\n",
    "                                  'first_name': 'max',\n",
    "                                  'last_name': 'max',})\\\n",
    "        .select(F.col('max(first_name)').alias('first_name'),\n",
    "                F.col('max(last_name)').alias('last_name'),\n",
    "                F.col('count(film_id)').alias('count'))\\\n",
    "        .sort('count', ascending=False).limit(3).show()"
   ]
  },
  {
   "cell_type": "markdown",
   "metadata": {
    "collapsed": false
   },
   "source": [
    "Stop Spark session:"
   ]
  },
  {
   "cell_type": "code",
   "execution_count": null,
   "metadata": {
    "collapsed": false
   },
   "outputs": [],
   "source": [
    "spark.stop()"
   ]
  }
 ],
 "metadata": {
  "kernelspec": {
   "display_name": "Python 3",
   "language": "python",
   "name": "python3"
  },
  "language_info": {
   "codemirror_mode": {
    "name": "ipython",
    "version": 3
   },
   "file_extension": ".py",
   "mimetype": "text/x-python",
   "name": "python",
   "nbconvert_exporter": "python",
   "pygments_lexer": "ipython3",
   "version": "3.10.4"
  }
 },
 "nbformat": 4,
 "nbformat_minor": 0
}
